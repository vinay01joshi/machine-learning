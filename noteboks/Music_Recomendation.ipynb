{
 "cells": [
  {
   "cell_type": "code",
   "execution_count": 30,
   "metadata": {},
   "outputs": [
    {
     "data": {
      "text/plain": [
       "1.0"
      ]
     },
     "execution_count": 30,
     "metadata": {},
     "output_type": "execute_result"
    }
   ],
   "source": [
    "import pandas as pd\n",
    "from sklearn.tree import DecisionTreeClassifier\n",
    "from sklearn.model_selection import train_test_split\n",
    "from sklearn.metrics import accuracy_score\n",
    "\n",
    "music_data = pd.read_csv('../data/music.csv')\n",
    "X = music_data.drop(columns=['genre'])\n",
    "y = music_data['genre']\n",
    "\n",
    "#spliting data set in tain and test using split 20% is training 80% is Data\n",
    "X_train, X_test , y_train , y_test = train_test_split(X, y, test_size=0.2)\n",
    "\n",
    "\n",
    "#creating model for sklearn\n",
    "model = DecisionTreeClassifier()\n",
    "model.fit(X_train,y_train)\n",
    "\n",
    "predictions = model.predict(X_test)\n",
    "\n",
    "#for prediction we need to compare X_test with actual value of test which is y_test here\n",
    "score = accuracy_score(y_test,predictions)\n",
    "score\n"
   ]
  },
  {
   "cell_type": "code",
   "execution_count": 39,
   "metadata": {},
   "outputs": [
    {
     "data": {
      "text/plain": [
       "array(['HipHop'], dtype=object)"
      ]
     },
     "execution_count": 39,
     "metadata": {},
     "output_type": "execute_result"
    }
   ],
   "source": [
    "from sklearn.tree import DecisionTreeClassifier\n",
    "from sklearn.externals import joblib\n",
    "\n",
    "# music_data = pd.read_csv('../data/music.csv')\n",
    "# X = music_data.drop(columns=['genre'])\n",
    "# y = music_data['genre']\n",
    "\n",
    "# #creating model for sklearn\n",
    "# model = DecisionTreeClassifier()\n",
    "# model.fit(X,y)\n",
    "\n",
    "model = joblib.load('music-recommender.joblib')\n",
    "\n",
    "#Making Predections\n",
    "predictions = model.predict([[21, 1]])\n",
    "predictions\n"
   ]
  }
 ],
 "metadata": {
  "kernelspec": {
   "display_name": "Python 3",
   "language": "python",
   "name": "python3"
  },
  "language_info": {
   "codemirror_mode": {
    "name": "ipython",
    "version": 3
   },
   "file_extension": ".py",
   "mimetype": "text/x-python",
   "name": "python",
   "nbconvert_exporter": "python",
   "pygments_lexer": "ipython3",
   "version": "3.7.3"
  }
 },
 "nbformat": 4,
 "nbformat_minor": 2
}
